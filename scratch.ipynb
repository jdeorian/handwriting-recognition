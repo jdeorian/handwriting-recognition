{
 "cells": [
  {
   "cell_type": "code",
   "execution_count": 11,
   "metadata": {
    "ExecuteTime": {
     "end_time": "2020-03-16T02:56:37.936312Z",
     "start_time": "2020-03-16T02:56:37.930326Z"
    }
   },
   "outputs": [],
   "source": [
    "import numpy as np\n",
    "\n",
    "def calculateDistance(size):\n",
    "    origin = np.append(np.array([0]),np.ones(size-1))\n",
    "    point1 = np.append(np.array([10]),np.ones(size-1))\n",
    "    point2 = np.append(np.array([100]),np.ones(size-1))\n",
    "#     print(origin)\n",
    "#     print(point1)\n",
    "#     print(point2)\n",
    "    dist1 = ((point1-origin)**2).sum()**0.5\n",
    "    dist2 = ((point2-origin)**2).sum()**0.5\n",
    "    return dist1, dist2"
   ]
  },
  {
   "cell_type": "code",
   "execution_count": 12,
   "metadata": {
    "ExecuteTime": {
     "end_time": "2020-03-16T02:56:38.509416Z",
     "start_time": "2020-03-16T02:56:38.498478Z"
    }
   },
   "outputs": [
    {
     "name": "stdout",
     "output_type": "stream",
     "text": [
      "10.0\n",
      "100.0\n",
      "0.1\n",
      "\n",
      "\n",
      "10.0\n",
      "100.0\n",
      "0.1\n",
      "\n",
      "\n",
      "10.0\n",
      "100.0\n",
      "0.1\n",
      "\n",
      "\n",
      "10.0\n",
      "100.0\n",
      "0.1\n",
      "\n",
      "\n",
      "10.0\n",
      "100.0\n",
      "0.1\n",
      "\n",
      "\n"
     ]
    }
   ],
   "source": [
    "myList = [1,10,100,1000,10000]\n",
    "\n",
    "for i in myList:\n",
    "    a,b = calculateDistance(i)\n",
    "    print(a)\n",
    "    print(b)\n",
    "    print(a/b)\n",
    "    print('\\n')"
   ]
  },
  {
   "cell_type": "code",
   "execution_count": 15,
   "metadata": {
    "ExecuteTime": {
     "end_time": "2020-03-16T01:15:11.461219Z",
     "start_time": "2020-03-16T01:15:11.455204Z"
    }
   },
   "outputs": [
    {
     "data": {
      "text/plain": [
       "5.0"
      ]
     },
     "execution_count": 15,
     "metadata": {},
     "output_type": "execute_result"
    }
   ],
   "source": [
    "((np.array([0,0])-np.array([3,4]))**2).sum()**0.5"
   ]
  }
 ],
 "metadata": {
  "kernelspec": {
   "display_name": "Python 3",
   "language": "python",
   "name": "python3"
  },
  "language_info": {
   "codemirror_mode": {
    "name": "ipython",
    "version": 3
   },
   "file_extension": ".py",
   "mimetype": "text/x-python",
   "name": "python",
   "nbconvert_exporter": "python",
   "pygments_lexer": "ipython3",
   "version": "3.7.3"
  },
  "toc": {
   "base_numbering": 1,
   "nav_menu": {},
   "number_sections": true,
   "sideBar": true,
   "skip_h1_title": false,
   "title_cell": "Table of Contents",
   "title_sidebar": "Contents",
   "toc_cell": false,
   "toc_position": {},
   "toc_section_display": true,
   "toc_window_display": false
  },
  "varInspector": {
   "cols": {
    "lenName": 16,
    "lenType": 16,
    "lenVar": 40
   },
   "kernels_config": {
    "python": {
     "delete_cmd_postfix": "",
     "delete_cmd_prefix": "del ",
     "library": "var_list.py",
     "varRefreshCmd": "print(var_dic_list())"
    },
    "r": {
     "delete_cmd_postfix": ") ",
     "delete_cmd_prefix": "rm(",
     "library": "var_list.r",
     "varRefreshCmd": "cat(var_dic_list()) "
    }
   },
   "types_to_exclude": [
    "module",
    "function",
    "builtin_function_or_method",
    "instance",
    "_Feature"
   ],
   "window_display": false
  }
 },
 "nbformat": 4,
 "nbformat_minor": 2
}
